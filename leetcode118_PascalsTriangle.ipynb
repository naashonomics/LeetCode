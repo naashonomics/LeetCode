{
 "cells": [
  {
   "cell_type": "code",
   "execution_count": 6,
   "metadata": {},
   "outputs": [
    {
     "name": "stdout",
     "output_type": "stream",
     "text": [
      "[[1], [1, 1], [1, 2, 1], [1, 3, 3, 1]]\n",
      "[[1]]\n",
      "[]\n"
     ]
    }
   ],
   "source": [
    "\"\"\"\n",
    "Given a non-negative integer numRows, generate the first numRows of Pascal's triangle.\n",
    "\n",
    "Input: 5\n",
    "Output:\n",
    "[\n",
    "     [1],\n",
    "    [1,1],\n",
    "   [1,2,1],\n",
    "  [1,3,3,1],\n",
    " [1,4,6,4,1]\n",
    "]\n",
    "\n",
    "Algorithm\n",
    "First, we generate the overall triangle list, which will store each row as a sublist. \n",
    "Then, we check for the special case of 00, as we would otherwise return [1][1]. \n",
    "If numRows > 0numRows>0, then we initialize triangle with [1][1] as its first row, and proceed to fill the rows as follows:\n",
    "\n",
    "\"\"\" \n",
    "def generate( num_rows):\n",
    "    triangle = []\n",
    "    for row_num in range(num_rows):\n",
    "    # The first and last row elements are always 1.\n",
    "        row = [None for _ in range(row_num+1)]\n",
    "        row[0], row[-1] = 1, 1\n",
    "        # Each triangle element is equal to the sum of the elements\n",
    "        # above-and-to-the-left and above-and-to-the-right.\n",
    "        for j in range(1, len(row)-1):\n",
    "            row[j] = triangle[row_num-1][j-1] + triangle[row_num-1][j]\n",
    "        triangle.append(row)\n",
    "\n",
    "    return triangle\n",
    "if __name__ == \"__main__\":\n",
    "    print(generate(4))\n",
    "    print(generate(1))\n",
    "    print(generate(0))"
   ]
  },
  {
   "cell_type": "code",
   "execution_count": null,
   "metadata": {},
   "outputs": [],
   "source": []
  }
 ],
 "metadata": {
  "kernelspec": {
   "display_name": "Python 2",
   "language": "python",
   "name": "python2"
  },
  "language_info": {
   "codemirror_mode": {
    "name": "ipython",
    "version": 2
   },
   "file_extension": ".py",
   "mimetype": "text/x-python",
   "name": "python",
   "nbconvert_exporter": "python",
   "pygments_lexer": "ipython2",
   "version": "2.7.14"
  }
 },
 "nbformat": 4,
 "nbformat_minor": 2
}
