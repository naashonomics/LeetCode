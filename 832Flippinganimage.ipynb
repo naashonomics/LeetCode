{
 "cells": [
  {
   "cell_type": "code",
   "execution_count": 15,
   "metadata": {},
   "outputs": [
    {
     "name": "stdout",
     "output_type": "stream",
     "text": [
      "O n^2\n",
      "[[1, 1, 0, 0], [1, 0, 0, 1], [0, 1, 1, 1], [1, 0, 1, 0]]\n",
      "[[1, 1, 0, 0], [0, 1, 1, 0], [0, 0, 0, 1], [1, 0, 1, 0]]\n",
      "O n\n",
      "[[1, 1, 0, 0], [0, 1, 1, 0], [0, 0, 0, 1], [1, 0, 1, 0]]\n",
      "[[1, 1, 0, 0], [1, 0, 0, 1], [0, 1, 1, 1], [1, 0, 1, 0]]\n"
     ]
    }
   ],
   "source": [
    "\"\"\"\n",
    "Given a binary matrix A, we want to flip the image horizontally, then invert it, and return the resulting image.\n",
    "\n",
    "To flip an image horizontally means that each row of the image is reversed.  For example, flipping [1, 1, 0] horizontally results in [0, 1, 1].\n",
    "\n",
    "To invert an image means that each 0 is replaced by 1, and each 1 is replaced by 0. For example, inverting [0, 1, 1] results in [1, 0, 0].\n",
    "\n",
    "Example 1:\n",
    "\n",
    "Input: [[1,1,0],[1,0,1],[0,0,0]]\n",
    "Output: [[1,0,0],[0,1,0],[1,1,1]]\n",
    "Explanation: First reverse each row: [[0,1,1],[1,0,1],[0,0,0]].\n",
    "Then, invert the image: [[1,0,0],[0,1,0],[1,1,1]]\n",
    "Example 2:\n",
    "\n",
    "Input: [[1,1,0,0],[1,0,0,1],[0,1,1,1],[1,0,1,0]]\n",
    "Output: [[1,1,0,0],[0,1,1,0],[0,0,0,1],[1,0,1,0]]\n",
    "Explanation: First reverse each row: [[0,0,1,1],[1,0,0,1],[1,1,1,0],[0,1,0,1]].\n",
    "Then invert the image: [[1,1,0,0],[0,1,1,0],[0,0,0,1],[1,0,1,0]]\n",
    "\"\"\"\n",
    "\n",
    "#O(n^2)\n",
    "def flipAndInvertImage(A):\n",
    "    print A\n",
    "    for l in A:\n",
    "        l.reverse()\n",
    "        for i in range(0,len(l)): \n",
    "            if l[i] == 0:\n",
    "                l[i]=1\n",
    "            else:\n",
    "                l[i]=0\n",
    "    print A\n",
    "\n",
    "#O(N) TC )(!) SC\n",
    "\n",
    "def flipAndInvertImage_optimal(A):\n",
    "    print A\n",
    "    for row in A:\n",
    "        for i in xrange((len(row) + 1) / 2):\n",
    "         \"\"\"\n",
    "         In Python, the shortcut row[~i] = row[-i-1] = row[len(row) - 1 - i]\n",
    "         helps us find the i-th value of the row, counting from the right.\n",
    "         \"\"\"\n",
    "         row[i], row[~i] = row[~i] ^ 1, row[i] ^ 1\n",
    "    return A\n",
    "    \n",
    "if __name__ == \"__main__\":\n",
    "    A=[[1,1,0,0],[1,0,0,1],[0,1,1,1],[1,0,1,0]]\n",
    "    print (\"O n^2\")\n",
    "    flipAndInvertImage(A)\n",
    "    print (\"O n\")\n",
    "    print(flipAndInvertImage_optimal(A))"
   ]
  },
  {
   "cell_type": "code",
   "execution_count": null,
   "metadata": {},
   "outputs": [],
   "source": []
  }
 ],
 "metadata": {
  "kernelspec": {
   "display_name": "Python 2",
   "language": "python",
   "name": "python2"
  },
  "language_info": {
   "codemirror_mode": {
    "name": "ipython",
    "version": 2
   },
   "file_extension": ".py",
   "mimetype": "text/x-python",
   "name": "python",
   "nbconvert_exporter": "python",
   "pygments_lexer": "ipython2",
   "version": "2.7.14"
  }
 },
 "nbformat": 4,
 "nbformat_minor": 2
}
