{
 "cells": [
  {
   "cell_type": "code",
   "execution_count": 5,
   "metadata": {},
   "outputs": [
    {
     "name": "stdout",
     "output_type": "stream",
     "text": [
      "[1, 4, 6, 4, 1]\n",
      "[1, 1]\n",
      "[1]\n"
     ]
    }
   ],
   "source": [
    "\"\"\"\n",
    "Given a non-negative index k where k ≤ 33, return the kth index row of the Pascal's triangle.\n",
    "\n",
    "Note that the row index starts from 0.\n",
    "\n",
    "Input: 3\n",
    "Output: [1,3,3,1]\n",
    "\n",
    "\"\"\"\n",
    "\n",
    "def getRow(rowIndex):\n",
    "    ans = [[1], [1, 1]]\n",
    "    if rowIndex < 2: return ans[rowIndex]\n",
    "    pre = ans[-1]\n",
    "    for i in range(1, rowIndex):\n",
    "        temp = [1] + [pre[t] + pre[t + 1] for t in range(len(pre) - 1)] + [1]\n",
    "        pre = temp\n",
    "    return pre\n",
    "    \n",
    "if __name__ == \"__main__\":\n",
    "    print(getRow(4))\n",
    "    print(getRow(1))\n",
    "    print(getRow(0))"
   ]
  },
  {
   "cell_type": "code",
   "execution_count": null,
   "metadata": {},
   "outputs": [],
   "source": []
  }
 ],
 "metadata": {
  "kernelspec": {
   "display_name": "Python 2",
   "language": "python",
   "name": "python2"
  },
  "language_info": {
   "codemirror_mode": {
    "name": "ipython",
    "version": 2
   },
   "file_extension": ".py",
   "mimetype": "text/x-python",
   "name": "python",
   "nbconvert_exporter": "python",
   "pygments_lexer": "ipython2",
   "version": "2.7.14"
  }
 },
 "nbformat": 4,
 "nbformat_minor": 2
}
